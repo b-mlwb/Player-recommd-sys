{
 "cells": [
  {
   "cell_type": "markdown",
   "id": "b8502e3e-7866-496d-9f4e-b0f48675ce6e",
   "metadata": {},
   "source": [
    "### Centuries Scored per Match\n",
    "- Higher values suggest a batsman who have a tendency of scoring centuries per match."
   ]
  },
  {
   "cell_type": "code",
   "execution_count": null,
   "id": "941b791e-9240-4357-bc63-2dd04f2bf226",
   "metadata": {},
   "outputs": [],
   "source": [
    "player_df['Bat_Cent_Per_Match'] = player_backup.apply(lambda row: calc_parameters(row['Centuries'], row['Matches']), axis=1)"
   ]
  },
  {
   "cell_type": "markdown",
   "id": "adce852d-97fc-467f-b8e9-80db79c8498e",
   "metadata": {},
   "source": [
    "### Centuries Scored per Inning\n",
    "- Higher values indicate a batsman who have a higher tendency to score centuries per inning."
   ]
  },
  {
   "cell_type": "code",
   "execution_count": null,
   "id": "e5608734-c998-4337-ac6e-c13eca44ca70",
   "metadata": {},
   "outputs": [],
   "source": [
    "player_df['Bat_Cent_Per_Inngs'] = player_backup.apply(lambda row: calc_parameters(row['Centuries'], row['Innings']), axis=1)"
   ]
  },
  {
   "cell_type": "markdown",
   "id": "f6ec5b0a-74fc-4565-ae3d-63dff3bdc868",
   "metadata": {},
   "source": [
    "### Batting High Score per Match\n",
    "- Higher values suggest a batsman who have a tendency to achieve high scores in matches."
   ]
  },
  {
   "cell_type": "code",
   "execution_count": null,
   "id": "d88eb27b-3488-4e63-8139-c3a6e6857ed4",
   "metadata": {},
   "outputs": [],
   "source": [
    "player_df['Bat_HS_Per_Match'] = player_backup.apply(lambda row: calc_parameters(row['High_Score'], row['Matches']), axis=1)"
   ]
  },
  {
   "cell_type": "markdown",
   "id": "129fbc82-0722-4a7b-841e-6c24f1ad2e74",
   "metadata": {},
   "source": [
    "### Batting High Score per Inning\n",
    "- Higher values indicate a batsman who have a higher tendency to achieve high scores per inning."
   ]
  },
  {
   "cell_type": "code",
   "execution_count": null,
   "id": "592264d8-cd20-4ee8-9042-dad92fcb4947",
   "metadata": {},
   "outputs": [],
   "source": [
    "player_df['Bat_HS_Per_Inngs'] = player_backup.apply(lambda row: calc_parameters(row['High_Score'], row['Innings']), axis=1)"
   ]
  },
  {
   "cell_type": "markdown",
   "id": "4d173d27-178f-43c4-9a95-07c6a342e5f9",
   "metadata": {},
   "source": [
    "### Four Wickets Taken per Match\n",
    "- Higher values suggest a bowler who have a tendency to perform exceptionally well by taking four-wicket hauls."
   ]
  },
  {
   "cell_type": "markdown",
   "id": "419468c7-0fd9-4ba6-9518-963325fac89a",
   "metadata": {},
   "source": [
    "### Four Wickets Taken per Inning\n",
    "- Higher values indicate a bowler who have a higher tendency to achieve four-wicket hauls more frequently per inning."
   ]
  },
  {
   "cell_type": "code",
   "execution_count": null,
   "id": "83fc1825-7891-4cb2-b311-8db0318904fc",
   "metadata": {},
   "outputs": [],
   "source": [
    "# # Function to read all sheets from an Excel file\n",
    "# def read_all_sheets_from_excel(filepath):\n",
    "#     xls = pd.ExcelFile(filepath)\n",
    "#     df_dict = {}\n",
    "#     for sheet_name in xls.sheet_names:\n",
    "#         df_dict[sheet_name] = xls.parse(sheet_name)\n",
    "#     return df_dict"
   ]
  },
  {
   "cell_type": "code",
   "execution_count": null,
   "id": "de8fe873-3d9f-4400-b020-17878ae4e723",
   "metadata": {},
   "outputs": [],
   "source": [
    "# # List of file paths\n",
    "# file_paths = ['AFG_Player_Data.xlsx', 'AUS_Player_Data.xlsx', 'BAN_Player_Data.xlsx', 'ENG_Player_Data.xlsx', 'IND_Player_Data.xlsx', 'NZL_Player_Data.xlsx', 'PAK_Player_Data.xlsx', 'SAF_Player_Data.xlsx', 'SRL_Player_Data.xlsx', 'WIN_Player_Data.xlsx']"
   ]
  },
  {
   "cell_type": "code",
   "execution_count": null,
   "id": "d05fc414-f9b0-4f0a-91d2-009d8e953050",
   "metadata": {},
   "outputs": [],
   "source": [
    "# # Reading all files\n",
    "# all_dataframes = {}\n",
    "# for file_path in file_paths:\n",
    "#     all_dataframes[file_path.split('_')[0]] = read_all_sheets_from_excel(file_path)\n",
    "\n",
    "# print('Dataframe keys of dataframes:' + ', '.join(all_dataframes.keys()))"
   ]
  },
  {
   "cell_type": "code",
   "execution_count": null,
   "id": "db20179c-3c86-4913-b067-ed7aeed412b3",
   "metadata": {},
   "outputs": [],
   "source": [
    "# # Converting fraction in Best Col to float\n",
    "# def frac_to_float(frac_str, precision=2):\n",
    "#     # removing extra spaces\n",
    "#     frac_str = frac_str.strip()\n",
    "    \n",
    "#     if '/' in frac_str:\n",
    "#         numerator, denominator = frac_str.split('/')\n",
    "#         return round((float(numerator) / float(denominator)), precision)\n",
    "#     else:\n",
    "#         return round(float(frac_str), precision)"
   ]
  },
  {
   "cell_type": "code",
   "execution_count": null,
   "id": "c43ef599-5c81-41b7-800b-bb6801adb951",
   "metadata": {},
   "outputs": [],
   "source": []
  },
  {
   "cell_type": "code",
   "execution_count": null,
   "id": "b1c50401-f5e2-47fa-9f78-d878b835830b",
   "metadata": {},
   "outputs": [],
   "source": []
  },
  {
   "cell_type": "code",
   "execution_count": null,
   "id": "2d6b6506-7e22-4f5f-bea5-356b8608673a",
   "metadata": {},
   "outputs": [],
   "source": []
  },
  {
   "cell_type": "code",
   "execution_count": null,
   "id": "49f5a768-5fe3-4412-a031-1b786583ae4f",
   "metadata": {},
   "outputs": [],
   "source": []
  },
  {
   "cell_type": "code",
   "execution_count": null,
   "id": "3f375381-b75b-496b-89b5-efeefab814c0",
   "metadata": {},
   "outputs": [],
   "source": []
  },
  {
   "cell_type": "code",
   "execution_count": null,
   "id": "6490fd0b-c844-435d-b957-8ceb8ab91818",
   "metadata": {},
   "outputs": [],
   "source": []
  }
 ],
 "metadata": {
  "kernelspec": {
   "display_name": "Python 3 (ipykernel)",
   "language": "python",
   "name": "python3"
  },
  "language_info": {
   "codemirror_mode": {
    "name": "ipython",
    "version": 3
   },
   "file_extension": ".py",
   "mimetype": "text/x-python",
   "name": "python",
   "nbconvert_exporter": "python",
   "pygments_lexer": "ipython3",
   "version": "3.10.12"
  }
 },
 "nbformat": 4,
 "nbformat_minor": 5
}
